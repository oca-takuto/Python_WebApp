{
 "cells": [
  {
   "cell_type": "code",
   "execution_count": 22,
   "metadata": {},
   "outputs": [],
   "source": [
    "import sqlite3\n",
    "con = sqlite3.connect('./test_db')"
   ]
  },
  {
   "cell_type": "code",
   "execution_count": 23,
   "metadata": {},
   "outputs": [
    {
     "name": "stdout",
     "output_type": "stream",
     "text": [
      "(1, 'changed_name', 10.5)\n",
      "1\n",
      "1\n",
      "changed_name\n",
      "10.5\n",
      "changed_name\n",
      "1\n",
      "changed_name\n",
      "10.5\n",
      "10.5\n",
      "1\n",
      "changed_name\n",
      "10.5\n",
      "(3, 'c_update', 3.14)\n",
      "3\n",
      "3\n",
      "c_update\n",
      "3.14\n",
      "c_update\n",
      "3\n",
      "c_update\n",
      "3.14\n",
      "3.14\n",
      "3\n",
      "c_update\n",
      "3.14\n",
      "(100, 'name', 99.9)\n",
      "100\n",
      "100\n",
      "name\n",
      "99.9\n",
      "name\n",
      "100\n",
      "name\n",
      "99.9\n",
      "99.9\n",
      "100\n",
      "name\n",
      "99.9\n"
     ]
    }
   ],
   "source": [
    "cur = con.cursor()\n",
    "\n",
    "for row in cur.execute('SELECT * FROM person'):\n",
    "    print(row)\n",
    "    for column in row:\n",
    "        print(column)\n",
    "        for column in row:\n",
    "            print(column)"
   ]
  },
  {
   "cell_type": "code",
   "execution_count": null,
   "metadata": {},
   "outputs": [],
   "source": [
    "cur.execute('ALTER TABLE human ALTER COLUMN name text')"
   ]
  },
  {
   "cell_type": "code",
   "execution_count": 34,
   "metadata": {},
   "outputs": [
    {
     "ename": "IntegrityError",
     "evalue": "UNIQUE constraint failed: person.id",
     "output_type": "error",
     "traceback": [
      "\u001b[0;31m---------------------------------------------------------------------------\u001b[0m",
      "\u001b[0;31mIntegrityError\u001b[0m                            Traceback (most recent call last)",
      "\u001b[1;32m/home/cre/Python_WebApp/control_db.ipynb Cell 3'\u001b[0m in \u001b[0;36m<cell line: 3>\u001b[0;34m()\u001b[0m\n\u001b[1;32m      <a href='vscode-notebook-cell://wsl%2Bubuntu-20.04/home/cre/Python_WebApp/control_db.ipynb#ch0000002vscode-remote?line=0'>1</a>\u001b[0m insert_sql \u001b[39m=\u001b[39m \u001b[39m'\u001b[39m\u001b[39mINSERT INTO person VALUES(?, ?, ?)\u001b[39m\u001b[39m'\u001b[39m\n\u001b[1;32m      <a href='vscode-notebook-cell://wsl%2Bubuntu-20.04/home/cre/Python_WebApp/control_db.ipynb#ch0000002vscode-remote?line=1'>2</a>\u001b[0m insert_param \u001b[39m=\u001b[39m (\u001b[39m100\u001b[39m, \u001b[39m'\u001b[39m\u001b[39mname_z\u001b[39m\u001b[39m'\u001b[39m, \u001b[39m99.9\u001b[39m)\n\u001b[0;32m----> <a href='vscode-notebook-cell://wsl%2Bubuntu-20.04/home/cre/Python_WebApp/control_db.ipynb#ch0000002vscode-remote?line=2'>3</a>\u001b[0m cur\u001b[39m.\u001b[39;49mexecute(insert_sql, insert_param)\n",
      "\u001b[0;31mIntegrityError\u001b[0m: UNIQUE constraint failed: person.id"
     ]
    }
   ],
   "source": [
    "insert_sql = 'INSERT INTO person VALUES(?, ?, ?)'\n",
    "insert_param = (100, 'name_z', 99.9)\n",
    "cur.execute(insert_sql, insert_param) \n"
   ]
  },
  {
   "cell_type": "code",
   "execution_count": 38,
   "metadata": {},
   "outputs": [
    {
     "name": "stdout",
     "output_type": "stream",
     "text": [
      "[(1, 'changed_name', 10.5), (100, 'name', 99.9)]\n"
     ]
    }
   ],
   "source": [
    "cur.execute('SELECT * FROM person WHERE size > :size', {'size':10})\n",
    "print(cur.fetchall())"
   ]
  },
  {
   "cell_type": "code",
   "execution_count": 27,
   "metadata": {},
   "outputs": [
    {
     "name": "stdout",
     "output_type": "stream",
     "text": [
      "[]\n"
     ]
    }
   ],
   "source": [
    "cur.execute('UPDATE person SET name = :name WHERE id = 1', {'name':'changed_name'})\n",
    "print(cur.fetchall())"
   ]
  },
  {
   "cell_type": "code",
   "execution_count": 37,
   "metadata": {},
   "outputs": [
    {
     "data": {
      "text/plain": [
       "<sqlite3.Cursor at 0x7ff8c0916c70>"
      ]
     },
     "execution_count": 37,
     "metadata": {},
     "output_type": "execute_result"
    }
   ],
   "source": [
    "cur.execute('DELETE FROM person WHERE id = :id', {'id':10})"
   ]
  },
  {
   "cell_type": "code",
   "execution_count": 40,
   "metadata": {},
   "outputs": [],
   "source": [
    "con.close()\n",
    "#cur.execute('SELECT * FROM person WHERR size > :size',{'size':10})"
   ]
  }
 ],
 "metadata": {
  "kernelspec": {
   "display_name": "Python 3.8.10 64-bit",
   "language": "python",
   "name": "python3"
  },
  "language_info": {
   "codemirror_mode": {
    "name": "ipython",
    "version": 3
   },
   "file_extension": ".py",
   "mimetype": "text/x-python",
   "name": "python",
   "nbconvert_exporter": "python",
   "pygments_lexer": "ipython3",
   "version": "3.8.10"
  },
  "orig_nbformat": 4,
  "vscode": {
   "interpreter": {
    "hash": "e7370f93d1d0cde622a1f8e1c04877d8463912d04d973331ad4851f04de6915a"
   }
  }
 },
 "nbformat": 4,
 "nbformat_minor": 2
}
