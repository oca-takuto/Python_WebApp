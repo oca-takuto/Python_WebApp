{
 "cells": [
  {
   "cell_type": "code",
   "execution_count": 4,
   "metadata": {},
   "outputs": [],
   "source": [
    "from sqlalchemy import create_engine\n",
    "from sqlalchemy.orm import Session\n",
    "from test_model import Person, Human"
   ]
  },
  {
   "cell_type": "code",
   "execution_count": 5,
   "metadata": {},
   "outputs": [],
   "source": [
    "engine = create_engine('sqlite:///test_db', echo=True)\n",
    "session = Session(engine)\n"
   ]
  },
  {
   "cell_type": "code",
   "execution_count": 8,
   "metadata": {},
   "outputs": [
    {
     "name": "stdout",
     "output_type": "stream",
     "text": [
      "2022-07-02 16:03:15,467 INFO sqlalchemy.engine.Engine BEGIN (implicit)\n",
      "2022-07-02 16:03:15,469 INFO sqlalchemy.engine.Engine SELECT human.id AS human_id, human.name AS human_name, human.height AS human_height, human.weight AS human_weight \n",
      "FROM human\n",
      "2022-07-02 16:03:15,470 INFO sqlalchemy.engine.Engine [cached since 13.22s ago] ()\n"
     ]
    }
   ],
   "source": [
    "humans = session.query(Human).all()\n",
    "for human in humans:\n",
    "    print(f'ID:{human.id} NAME:{human.name} height:{human.height} weight:{human.weight}')"
   ]
  },
  {
   "cell_type": "code",
   "execution_count": 15,
   "metadata": {},
   "outputs": [],
   "source": [
    "new_human = Human(id=1, name=\"a\", height=0, weight=0)\n",
    "session.add(new_human)"
   ]
  },
  {
   "cell_type": "code",
   "execution_count": 12,
   "metadata": {},
   "outputs": [
    {
     "name": "stdout",
     "output_type": "stream",
     "text": [
      "2022-07-02 15:59:59,621 INFO sqlalchemy.engine.Engine SELECT human.id AS human_id, human.name AS human_name, human.height AS human_height, human.weight AS human_weight \n",
      "FROM human \n",
      "WHERE human.height = ?\n",
      " LIMIT ? OFFSET ?\n",
      "2022-07-02 15:59:59,623 INFO sqlalchemy.engine.Engine [cached since 52.76s ago] (0, 1, 0)\n"
     ]
    }
   ],
   "source": [
    "height = session.query(Human).filter(Human.height==0).first()\n",
    "height.height = 11"
   ]
  },
  {
   "cell_type": "code",
   "execution_count": 7,
   "metadata": {},
   "outputs": [
    {
     "name": "stdout",
     "output_type": "stream",
     "text": [
      "2022-07-02 16:03:10,187 INFO sqlalchemy.engine.Engine DELETE FROM human WHERE human.weight < ?\n",
      "2022-07-02 16:03:10,188 INFO sqlalchemy.engine.Engine [generated in 0.00198s] (1,)\n",
      "2022-07-02 16:03:10,191 INFO sqlalchemy.engine.Engine COMMIT\n"
     ]
    }
   ],
   "source": [
    "session.query(Human).filter(Human.weight < 1).delete()\n",
    "\n",
    "session.commit()"
   ]
  },
  {
   "cell_type": "code",
   "execution_count": 13,
   "metadata": {},
   "outputs": [
    {
     "name": "stdout",
     "output_type": "stream",
     "text": [
      "2022-07-02 16:00:03,293 INFO sqlalchemy.engine.Engine UPDATE human SET height=? WHERE human.id = ?\n",
      "2022-07-02 16:00:03,295 INFO sqlalchemy.engine.Engine [generated in 0.00220s] (11.0, 1)\n",
      "2022-07-02 16:00:03,297 INFO sqlalchemy.engine.Engine COMMIT\n"
     ]
    }
   ],
   "source": [
    "session.commit()"
   ]
  },
  {
   "cell_type": "code",
   "execution_count": null,
   "metadata": {},
   "outputs": [],
   "source": [
    "persons = session.query(Person).all()\n",
    "for person in persons:\n",
    "    print(f'id:{person.id} name:{person.name} size:{person.size}')"
   ]
  },
  {
   "cell_type": "code",
   "execution_count": null,
   "metadata": {},
   "outputs": [],
   "source": [
    "new_persion = Person(id=4, name='from_model', size=100)\n",
    "session.add(new_persion)"
   ]
  },
  {
   "cell_type": "code",
   "execution_count": null,
   "metadata": {},
   "outputs": [],
   "source": [
    "session.commit()\n"
   ]
  },
  {
   "cell_type": "code",
   "execution_count": null,
   "metadata": {},
   "outputs": [],
   "source": [
    "persons = session.query(Person).all()\n",
    "for person in persons:\n",
    "    print(person.__dict__)"
   ]
  },
  {
   "cell_type": "code",
   "execution_count": null,
   "metadata": {},
   "outputs": [],
   "source": [
    "person4 = session.query(Person).filter(Person.id==4).first()\n",
    "person4.size = 2.236"
   ]
  },
  {
   "cell_type": "code",
   "execution_count": null,
   "metadata": {},
   "outputs": [],
   "source": [
    "session.commit()"
   ]
  },
  {
   "cell_type": "code",
   "execution_count": null,
   "metadata": {},
   "outputs": [],
   "source": [
    "session.query(Person).filter(Person.size > 10).delete()"
   ]
  },
  {
   "cell_type": "code",
   "execution_count": null,
   "metadata": {},
   "outputs": [],
   "source": [
    "session.commit()"
   ]
  },
  {
   "cell_type": "code",
   "execution_count": null,
   "metadata": {},
   "outputs": [],
   "source": [
    "result_list = session.execute('SELECT * FROM person WHERE id = :id', {\"id\":4})\n",
    "for result in result_list:\n",
    "    print(result)"
   ]
  },
  {
   "cell_type": "code",
   "execution_count": 20,
   "metadata": {},
   "outputs": [],
   "source": [
    "session.close()"
   ]
  }
 ],
 "metadata": {
  "kernelspec": {
   "display_name": "Python 3.8.10 ('venv': venv)",
   "language": "python",
   "name": "python3"
  },
  "language_info": {
   "codemirror_mode": {
    "name": "ipython",
    "version": 3
   },
   "file_extension": ".py",
   "mimetype": "text/x-python",
   "name": "python",
   "nbconvert_exporter": "python",
   "pygments_lexer": "ipython3",
   "version": "3.8.10"
  },
  "orig_nbformat": 4,
  "vscode": {
   "interpreter": {
    "hash": "50f924bc883a09db1276cb08c605c91ac67fdd49531ef706b81b28bb3d8c9cb0"
   }
  }
 },
 "nbformat": 4,
 "nbformat_minor": 2
}
